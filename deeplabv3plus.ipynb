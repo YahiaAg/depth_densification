{
 "cells": [
  {
   "cell_type": "code",
   "execution_count": 1,
   "id": "c820ebf8",
   "metadata": {},
   "outputs": [
    {
     "name": "stdout",
     "output_type": "stream",
     "text": [
      "2.13.0\n"
     ]
    }
   ],
   "source": [
    "import os\n",
    "import tempfile\n",
    "import numpy as np\n",
    "import tensorflow as tf\n",
    "print(tf.__version__)"
   ]
  },
  {
   "cell_type": "code",
   "execution_count": 2,
   "id": "bf44bc0b",
   "metadata": {},
   "outputs": [
    {
     "name": "stderr",
     "output_type": "stream",
     "text": [
      "'wget' n'est pas reconnu en tant que commande interne\n",
      "ou externe, un programme ex�cutable ou un fichier de commandes.\n"
     ]
    },
    {
     "name": "stdout",
     "output_type": "stream",
     "text": [
      "Frozen graph file path: tar: Option --wildcards is not supported\n"
     ]
    }
   ],
   "source": [
    "#@title Downloading and extracting the model checkpoints\n",
    "\n",
    "MODEL_NAME = \"xception65_cityscapes_trainfine\" #@param [\"mobilenetv3_large_cityscapes_trainfine\", \"xception65_cityscapes_trainfine\"] \n",
    "\n",
    "DOWNLOAD_URL_PREFIX = 'http://download.tensorflow.org/models/'\n",
    "MODEL_URLS = {\n",
    "    'mobilenetv3_large_cityscapes_trainfine':\n",
    "        'deeplab_mnv3_large_cityscapes_trainfine_2019_11_15.tar.gz',\n",
    "    'xception65_cityscapes_trainfine':\n",
    "        'deeplabv3_cityscapes_train_2018_02_06.tar.gz',\n",
    "}\n",
    "\n",
    "MODEL_TAR = MODEL_URLS[MODEL_NAME]\n",
    "MODEL_URL = DOWNLOAD_URL_PREFIX + MODEL_TAR\n",
    "\n",
    "# Download\n",
    "!wget -O {MODEL_TAR} {MODEL_URL}\n",
    "\n",
    "# Extract\n",
    "MODEL_FILE = !tar -zxvf {MODEL_TAR} --wildcards --no-anchored 'frozen_inference_graph.pb'\n",
    "MODEL_FILE = MODEL_FILE[0].strip()\n",
    "print('Frozen graph file path:', MODEL_FILE)"
   ]
  }
 ],
 "metadata": {
  "kernelspec": {
   "display_name": "base",
   "language": "python",
   "name": "python3"
  },
  "language_info": {
   "codemirror_mode": {
    "name": "ipython",
    "version": 3
   },
   "file_extension": ".py",
   "mimetype": "text/x-python",
   "name": "python",
   "nbconvert_exporter": "python",
   "pygments_lexer": "ipython3",
   "version": "3.8.5"
  }
 },
 "nbformat": 4,
 "nbformat_minor": 5
}
